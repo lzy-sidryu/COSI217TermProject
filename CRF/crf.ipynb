{
 "nbformat": 4,
 "nbformat_minor": 2,
 "metadata": {
  "language_info": {
   "name": "python",
   "codemirror_mode": {
    "name": "ipython",
    "version": 3
   },
   "version": "3.7.4"
  },
  "orig_nbformat": 2,
  "file_extension": ".py",
  "mimetype": "text/x-python",
  "name": "python",
  "npconvert_exporter": "python",
  "pygments_lexer": "ipython3",
  "version": 3
 },
 "cells": [
  {
   "cell_type": "code",
   "execution_count": 11,
   "metadata": {},
   "outputs": [],
   "source": [
    "from typing import Mapping, Sequence, Dict, Optional, List, Iterable\n",
    "\n",
    "import json, pickle\n",
    "from copy import deepcopy\n",
    "\n",
    "import spacy\n",
    "from spacy.tokens import Doc, Span, Token\n",
    "from utils import (\n",
    "    ingest_json_document,\n",
    "    evaluate_and_print,\n",
    ")\n",
    "\n",
    "\n",
    "from feature_extractors import (\n",
    "    BiasFeature,\n",
    "    TokenFeature,\n",
    "    DigitFeature,\n",
    "    UppercaseFeature,\n",
    "    TitlecaseFeature,\n",
    "    InitialTitlecaseFeature,\n",
    "    PunctuationFeature,\n",
    "    WordShapeFeature,\n",
    "    LikelyAdjectiveFeature,\n",
    "    AfterVerbFeature,\n",
    "    WordVectorFeature,\n",
    "    BrownClusterFeature,\n",
    "    WindowedTokenFeatureExtractor,\n",
    ")\n",
    "\n",
    "from entity_recognizer import (\n",
    "    BILOUEncoder,\n",
    "    CRFsuiteEntityRecognizer,\n",
    ")"
   ]
  },
  {
   "cell_type": "code",
   "execution_count": 2,
   "metadata": {},
   "outputs": [],
   "source": [
    "nlp = spacy.load(\"en_core_web_sm\", disable=[\"ner\"])\n",
    "with open('data/corpus_train.jsonl', 'r', encoding='utf8', errors='ignore') as train_file:\n",
    "    train_docs = [ingest_json_document(json.loads(line), nlp) for line in train_file]\n",
    "\n",
    "with open('data/corpus_dev.jsonl', 'r', encoding='utf8', errors='ignore') as dev_file:\n",
    "    dev_docs = [ingest_json_document(json.loads(line), nlp) for line in dev_file]"
   ]
  },
  {
   "cell_type": "code",
   "execution_count": 5,
   "metadata": {},
   "outputs": [],
   "source": [
    "dev_gold = deepcopy(dev_docs)\n",
    "for doc in dev_docs:\n",
    "    doc.ents = []"
   ]
  },
  {
   "cell_type": "code",
   "execution_count": 59,
   "metadata": {},
   "outputs": [],
   "source": [
    "word_vector_file_path = \"models/wiki-news-300d-1M-subword.magnitude\"\n",
    "brown_cluster_file_path = \"models/rcv1.64M-c10240-p1.paths\"\n",
    "\n",
    "best_features = [\n",
    "        BiasFeature(),\n",
    "        TokenFeature(),\n",
    "        UppercaseFeature(),\n",
    "        TitlecaseFeature(),\n",
    "        # InitialTitlecaseFeature(),\n",
    "        DigitFeature(),\n",
    "        PunctuationFeature(),\n",
    "        WordShapeFeature(),\n",
    "        # LikelyAdjectiveFeature(),\n",
    "        # AfterVerbFeature(),\n",
    "        # WordVectorFeature(word_vector_file_path, 1.0),\n",
    "        # BrownClusterFeature(\n",
    "        #     brown_cluster_file_path,\n",
    "        #     use_full_paths=False,\n",
    "        #     use_prefixes=True,\n",
    "        #     prefixes=[4, 6, 10, 20],\n",
    "        # ),\n",
    "    ]\n",
    "\n",
    "crf_model = CRFsuiteEntityRecognizer(\n",
    "    WindowedTokenFeatureExtractor(best_features, 2), BILOUEncoder()\n",
    ")"
   ]
  },
  {
   "cell_type": "code",
   "execution_count": 60,
   "metadata": {},
   "outputs": [
    {
     "name": "stdout",
     "output_type": "stream",
     "text": "Wall time: 3.01 s\n"
    }
   ],
   "source": [
    "%%time\n",
    "crf_model.train(train_docs, \"ap\", {\"max_iterations\": 100}, \"tmp.model\")"
   ]
  },
  {
   "cell_type": "code",
   "execution_count": 62,
   "metadata": {},
   "outputs": [
    {
     "name": "stderr",
     "output_type": "stream",
     "text": "Type\tPrec\tRec\tF1\nALL\t62.24\t55.35\t58.59\nAVATAR\t57.81\t46.84\t51.75\nGAME\t88.89\t88.89\t88.89\nORG\t80\t60\t68.57\nPLAYER\t46.71\t46.99\t46.85\nSPONS\t0\t0\t0\nTOURN\t52.83\t71.79\t60.87\n"
    }
   ],
   "source": [
    "dev_predicted = [crf_model(doc) for doc in dev_docs]\n",
    "evaluate_and_print(dev_gold, dev_predicted)"
   ]
  },
  {
   "cell_type": "code",
   "execution_count": null,
   "metadata": {},
   "outputs": [],
   "source": []
  }
 ]
}