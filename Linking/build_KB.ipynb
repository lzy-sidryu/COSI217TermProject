{
 "nbformat": 4,
 "nbformat_minor": 2,
 "metadata": {
  "language_info": {
   "name": "python",
   "codemirror_mode": {
    "name": "ipython",
    "version": 3
   },
   "version": "3.7.4"
  },
  "orig_nbformat": 2,
  "file_extension": ".py",
  "mimetype": "text/x-python",
  "name": "python",
  "npconvert_exporter": "python",
  "pygments_lexer": "ipython3",
  "version": 3
 },
 "cells": [
  {
   "cell_type": "code",
   "execution_count": 1,
   "metadata": {},
   "outputs": [],
   "source": [
    "import requests\n",
    "URL = \"https://liquipedia.net/dota2/Portal:Teams\"\n",
    "doc = requests.get(url = URL) \n",
    "\n"
   ]
  },
  {
   "cell_type": "code",
   "execution_count": 4,
   "metadata": {},
   "outputs": [
    {
     "data": {
      "text/plain": "194324"
     },
     "execution_count": 4,
     "metadata": {},
     "output_type": "execute_result"
    }
   ],
   "source": [
    "len(doc.content)"
   ]
  },
  {
   "cell_type": "code",
   "execution_count": 5,
   "metadata": {},
   "outputs": [],
   "source": [
    "from bs4 import BeautifulSoup\n",
    "soup = BeautifulSoup(doc.content, 'html.parser')"
   ]
  },
  {
   "cell_type": "code",
   "execution_count": 8,
   "metadata": {},
   "outputs": [
    {
     "data": {
      "text/plain": "'/dota2/Chaos_Esports_Club'"
     },
     "execution_count": 8,
     "metadata": {},
     "output_type": "execute_result"
    }
   ],
   "source": [
    "span = soup.find_all('span', class_='team-template-text')[0]\n",
    "link = span.find('a').get('href')\n",
    "link"
   ]
  },
  {
   "cell_type": "code",
   "execution_count": 16,
   "metadata": {},
   "outputs": [],
   "source": [
    "from urllib.parse import urljoin\n",
    "import time"
   ]
  },
  {
   "cell_type": "code",
   "execution_count": 18,
   "metadata": {},
   "outputs": [
    {
     "name": "stdout",
     "output_type": "stream",
     "text": "Finished Parsing team: Chaos Esports Club\nDetailed information:{'name': 'Chaos Esports Club', 'aliases': ['Chaos Esports Club', 'Digital Chaos'], 'Location': 'United States', 'Region': 'North America'}\nFinished Parsing team: Demon Slayers\nDetailed information:{'name': 'Demon Slayers', 'aliases': ['Demon Slayers'], 'Location': 'United States', 'Region': 'North America'}\nFinished Parsing team: Evil Geniuses\nDetailed information:{'name': 'Evil Geniuses', 'aliases': ['Evil Geniuses', 'EG'], 'Location': 'United States', 'Region': 'North America'}\nFinished Parsing team: Fighting PandaS\nDetailed information:{'name': 'Fighting PandaS', 'aliases': ['Fighting Pandas', 'Fighting Pepegas'], 'Location': 'United States', 'Region': 'North America'}\nFinished Parsing team: J.Storm\nDetailed information:{'name': 'J.Storm', 'aliases': ['J.Storm'], 'Location': 'United States', 'Region': 'North America'}\nFinished Parsing team: Ninjas in Pyjamas\nDetailed information:{'name': 'Ninjas in Pyjamas', 'aliases': ['Ninjas in Pyjamas', 'NiP'], 'Location': 'Sweden', 'Region': 'North America'}\nFinished Parsing team: Team Xolotl\nDetailed information:{'name': 'Team Xolotl', 'aliases': ['Team Xolotl'], 'Location': 'Mexico', 'Region': 'North America'}\nFinished Parsing team: beastcoast\nDetailed information:{'name': 'beastcoast', 'aliases': ['beastcoast'], 'Location': 'United States', 'Region': 'South America'}\nFinished Parsing team: EgoBoys\nDetailed information:{'name': 'EgoBoys', 'aliases': ['EgoBoys'], 'Location': 'Peru', 'Region': 'South America'}\nFinished Parsing team: FURIA Esports\nDetailed information:{'name': 'FURIA Esports', 'aliases': [], 'Location': 'Brazil', 'Region': 'South America'}\nFinished Parsing team: Gorillaz-Pride\nDetailed information:{'name': 'Gorillaz-Pride', 'aliases': [], 'Location': 'Peru', 'Region': 'South America'}\nFinished Parsing team: Infamous\nDetailed information:{'name': 'Infamous', 'aliases': [], 'Location': 'Peru', 'Region': 'South America'}\nFinished Parsing team: NoPing e-sports\nDetailed information:{'name': 'NoPing e-sports', 'aliases': [], 'Location': 'Brazil', 'Region': 'South America'}\nFinished Parsing team: paiN Gaming\nDetailed information:{'name': 'paiN Gaming', 'aliases': ['paiN Gaming'], 'Location': 'Brazil', 'Region': 'South America'}\nFinished Parsing team: Thunder Predator\nDetailed information:{'name': 'Thunder Predator', 'aliases': ['Thunder Predator', 'Thunder Awaken'], 'Location': 'Peru', 'Region': 'South America'}\nFinished Parsing team: Team Unknown\nDetailed information:{'name': 'Team Unknown', 'aliases': ['Team Unknown'], 'Location': 'Peru', 'Region': 'South America'}\nFinished Parsing team: Ad Finem\nDetailed information:{'name': 'Ad Finem', 'aliases': ['Ad Finem'], 'Location': 'Greece', 'Region': 'Europe'}\nFinished Parsing team: Alliance\nDetailed information:{'name': 'Alliance', 'aliases': ['Alliance'], 'Location': 'Sweden', 'Region': 'Europe'}\nFinished Parsing team: Godsent\nDetailed information:{'name': 'Godsent', 'aliases': ['Godsent'], 'Location': 'Sweden', 'Region': 'Europe'}\nFinished Parsing team: Hippomaniacs\nDetailed information:{'name': 'Hippomaniacs', 'aliases': ['Hippomaniacs'], 'Location': 'Slovakia', 'Region': 'Europe'}\nFinished Parsing team: Nigma\nDetailed information:{'name': 'Nigma', 'aliases': ['Nigma'], 'Location': 'Europe', 'Region': 'Europe'}\nFinished Parsing team: OG\nDetailed information:{'name': 'OG', 'aliases': ['OG'], 'Location': 'Europe', 'Region': 'Europe'}\nFinished Parsing team: OG Seed\nDetailed information:{'name': 'OG Seed', 'aliases': ['OG Seed'], 'Location': 'Europe', 'Region': 'Europe'}\nFinished Parsing team: Team Liquid\nDetailed information:{'name': 'Team Liquid', 'aliases': ['Team Liquid'], 'Location': 'Netherlands', 'Region': 'Europe'}\nFinished Parsing team: Team Secret\nDetailed information:{'name': 'Team Secret', 'aliases': ['Team Secret'], 'Location': 'Europe', 'Region': 'Europe'}\nFinished Parsing team: Team Singularity\nDetailed information:{'name': 'Team Singularity', 'aliases': ['Team Singularity'], 'Location': 'Denmark', 'Region': 'Europe'}\nFinished Parsing team: Vikin.gg\nDetailed information:{'name': 'Vikin.gg', 'aliases': ['Vikin.gg'], 'Location': 'Romania', 'Region': 'Europe'}\nFinished Parsing team: Wind and Rain\nDetailed information:{'name': 'Wind and Rain', 'aliases': ['Wind and Rain'], 'Location': 'United Kingdom', 'Region': 'Europe'}\nFinished Parsing team: Zero Respect\nDetailed information:{'name': 'Zero Respect', 'aliases': [], 'Location': 'France', 'Region': 'Europe'}\nFinished Parsing team: CyberDogs\nDetailed information:{'name': 'CyberDogs', 'aliases': [], 'Location': 'Kazakhstan', 'Region': 'CIS'}\nFinished Parsing team: FlyToMoon\nDetailed information:{'name': 'FlyToMoon', 'aliases': ['FlyToMoon'], 'Location': 'Russia', 'Region': 'CIS'}\nFinished Parsing team: Gambit Esports\nDetailed information:{'name': 'Gambit Esports', 'aliases': ['Gambit Esports', 'Gambit Gaming'], 'Location': 'United Kingdom', 'Region': 'CIS'}\nFinished Parsing team: HellRaisers\nDetailed information:{'name': 'HellRaisers', 'aliases': ['HellRaisers'], 'Location': 'Ukraine', 'Region': 'CIS'}\nFinished Parsing team: Imperial Pro Gaming\nDetailed information:{'name': 'Imperial Pro Gaming', 'aliases': [], 'Location': 'Russia', 'Region': 'CIS'}\n"
    },
    {
     "ename": "AttributeError",
     "evalue": "'NoneType' object has no attribute 'find_all'",
     "output_type": "error",
     "traceback": [
      "\u001b[1;31m---------------------------------------------------------------------------\u001b[0m",
      "\u001b[1;31mAttributeError\u001b[0m                            Traceback (most recent call last)",
      "\u001b[1;32m<ipython-input-18-d0c309ee2a81>\u001b[0m in \u001b[0;36m<module>\u001b[1;34m\u001b[0m\n\u001b[0;32m      5\u001b[0m     \u001b[0mlink\u001b[0m \u001b[1;33m=\u001b[0m \u001b[0mspan\u001b[0m\u001b[1;33m.\u001b[0m\u001b[0mfind\u001b[0m\u001b[1;33m(\u001b[0m\u001b[1;34m'a'\u001b[0m\u001b[1;33m)\u001b[0m\u001b[1;33m.\u001b[0m\u001b[0mget\u001b[0m\u001b[1;33m(\u001b[0m\u001b[1;34m'href'\u001b[0m\u001b[1;33m)\u001b[0m\u001b[1;33m\u001b[0m\u001b[1;33m\u001b[0m\u001b[0m\n\u001b[0;32m      6\u001b[0m     \u001b[0mteam_soup\u001b[0m \u001b[1;33m=\u001b[0m \u001b[0mBeautifulSoup\u001b[0m\u001b[1;33m(\u001b[0m\u001b[0mrequests\u001b[0m\u001b[1;33m.\u001b[0m\u001b[0mget\u001b[0m\u001b[1;33m(\u001b[0m\u001b[0murl\u001b[0m \u001b[1;33m=\u001b[0m \u001b[0murljoin\u001b[0m\u001b[1;33m(\u001b[0m\u001b[1;34m'https://liquipedia.net/'\u001b[0m\u001b[1;33m,\u001b[0m \u001b[0mlink\u001b[0m\u001b[1;33m)\u001b[0m\u001b[1;33m)\u001b[0m\u001b[1;33m.\u001b[0m\u001b[0mcontent\u001b[0m\u001b[1;33m,\u001b[0m \u001b[1;34m'html.parser'\u001b[0m\u001b[1;33m)\u001b[0m\u001b[1;33m\u001b[0m\u001b[1;33m\u001b[0m\u001b[0m\n\u001b[1;32m----> 7\u001b[1;33m     \u001b[0mteam\u001b[0m\u001b[1;33m[\u001b[0m\u001b[1;34m'aliases'\u001b[0m\u001b[1;33m]\u001b[0m \u001b[1;33m=\u001b[0m \u001b[1;33m[\u001b[0m\u001b[0mb_text\u001b[0m\u001b[1;33m.\u001b[0m\u001b[0mget_text\u001b[0m\u001b[1;33m(\u001b[0m\u001b[1;33m)\u001b[0m \u001b[1;32mfor\u001b[0m \u001b[0mb_text\u001b[0m \u001b[1;32min\u001b[0m \u001b[0mteam_soup\u001b[0m\u001b[1;33m.\u001b[0m\u001b[0mfind\u001b[0m\u001b[1;33m(\u001b[0m\u001b[1;34m'p'\u001b[0m\u001b[1;33m)\u001b[0m\u001b[1;33m.\u001b[0m\u001b[0mfind_all\u001b[0m\u001b[1;33m(\u001b[0m\u001b[1;34m'b'\u001b[0m\u001b[1;33m)\u001b[0m\u001b[1;33m]\u001b[0m\u001b[1;33m\u001b[0m\u001b[1;33m\u001b[0m\u001b[0m\n\u001b[0m\u001b[0;32m      8\u001b[0m     \u001b[0mdescriptions\u001b[0m \u001b[1;33m=\u001b[0m \u001b[0mteam_soup\u001b[0m\u001b[1;33m.\u001b[0m\u001b[0mfind\u001b[0m\u001b[1;33m(\u001b[0m\u001b[1;34m'div'\u001b[0m\u001b[1;33m,\u001b[0m \u001b[0mclass_\u001b[0m\u001b[1;33m=\u001b[0m\u001b[1;34m'fo-nttax-infobox'\u001b[0m\u001b[1;33m)\u001b[0m\u001b[1;33m.\u001b[0m\u001b[0mfind_all\u001b[0m\u001b[1;33m(\u001b[0m\u001b[1;34m'div'\u001b[0m\u001b[1;33m,\u001b[0m \u001b[0mclass_\u001b[0m\u001b[1;33m=\u001b[0m\u001b[1;34m'infobox-description'\u001b[0m\u001b[1;33m)\u001b[0m\u001b[1;33m\u001b[0m\u001b[1;33m\u001b[0m\u001b[0m\n\u001b[0;32m      9\u001b[0m     \u001b[1;32mfor\u001b[0m \u001b[0mdes\u001b[0m \u001b[1;32min\u001b[0m \u001b[0mdescriptions\u001b[0m\u001b[1;33m[\u001b[0m\u001b[1;33m:\u001b[0m\u001b[1;36m2\u001b[0m\u001b[1;33m]\u001b[0m\u001b[1;33m:\u001b[0m\u001b[1;33m\u001b[0m\u001b[1;33m\u001b[0m\u001b[0m\n",
      "\u001b[1;31mAttributeError\u001b[0m: 'NoneType' object has no attribute 'find_all'"
     ]
    }
   ],
   "source": [
    "\n",
    "skip_flag = True\n",
    "for span in soup.find_all('span', class_='team-template-text'):\n",
    "    team = {}\n",
    "    team['name'] = span.get_text()\n",
    "    if team['name'] != 'Khan':\n",
    "        if skip_flag:\n",
    "            continue\n",
    "    else:\n",
    "        skip_flag = False\n",
    "    link = span.find('a').get('href')\n",
    "    team_soup = BeautifulSoup(requests.get(url = urljoin('https://liquipedia.net/', link)).content, 'html.parser')\n",
    "    try:\n",
    "        aliases = [b_text.get_text() for b_text in team_soup.find('p').find_all('b')]\n",
    "    except:\n",
    "        aliases = []\n",
    "    team['aliases'] = aliases\n",
    "    descriptions = team_soup.find('div', class_='fo-nttax-infobox').find_all('div', class_='infobox-description')\n",
    "    for des in descriptions[:2]:\n",
    "        attr = des.get_text().split(':')[0]\n",
    "        if attr == 'Total Earnings':\n",
    "            val = des.find_next_sibling().get_text()\n",
    "        else:\n",
    "            try:\n",
    "                val = des.find_next_sibling().find('span', class_='flag').find('a').get('title')\n",
    "            except:\n",
    "                print(attr, des.parent)\n",
    "                val = \"\"\n",
    "        team[attr] = val\n",
    "    print(f\"Finished Parsing team: {team['name']}\\nDetailed information:{team}\")\n",
    "    time.sleep(2)\n",
    "    teams.append(team)"
   ]
  },
  {
   "cell_type": "code",
   "execution_count": null,
   "metadata": {},
   "outputs": [],
   "source": []
  }
 ]
}